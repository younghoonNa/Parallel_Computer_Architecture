{
  "nbformat": 4,
  "nbformat_minor": 0,
  "metadata": {
    "colab": {
      "provenance": [],
      "collapsed_sections": [],
      "authorship_tag": "ABX9TyMH5jApkoAnTp6L2GvAXRRh",
      "include_colab_link": true
    },
    "kernelspec": {
      "name": "python3",
      "display_name": "Python 3"
    },
    "language_info": {
      "name": "python"
    },
    "accelerator": "GPU"
  },
  "cells": [
    {
      "cell_type": "markdown",
      "metadata": {
        "id": "view-in-github",
        "colab_type": "text"
      },
      "source": [
        "<a href=\"https://colab.research.google.com/github/younghoonNa/Parallel_Computer_Architecture/blob/main/CUDA/Multiprocessing_CUDA.ipynb\" target=\"_parent\"><img src=\"https://colab.research.google.com/assets/colab-badge.svg\" alt=\"Open In Colab\"/></a>"
      ]
    },
    {
      "cell_type": "code",
      "source": [
        "## Example1"
      ],
      "metadata": {
        "id": "42MpLHjYeZ5x"
      },
      "execution_count": null,
      "outputs": []
    },
    {
      "cell_type": "markdown",
      "source": [
        "## Example1"
      ],
      "metadata": {
        "id": "XezDFLFBebyW"
      }
    },
    {
      "cell_type": "code",
      "execution_count": null,
      "metadata": {
        "id": "EE6SlYfq5L9R",
        "colab": {
          "base_uri": "https://localhost:8080/"
        },
        "outputId": "8cbb7d3d-4f21-489a-a490-f8470e66cd19"
      },
      "outputs": [
        {
          "output_type": "stream",
          "name": "stdout",
          "text": [
            "Writing CUDA_practice.cu\n"
          ]
        }
      ],
      "source": [
        "%%writefile CUDA_practice.cu\n",
        "\n",
        "#include <stdio.h>\n",
        "\n",
        "__device__ void hiDeviceFunction(void) // GPU에서만 돌아가며, GPU에서만 Qualify 된다..\n",
        "{\n",
        "  printf(\"Hello! This is in hiDeviceFunciton. \\n\");\n",
        "}\n",
        "\n",
        "__global__ void helloCUDA(void) // Local + GPU\n",
        "{\n",
        "  printf(\"Hello thread %d\\n\", threadIdx.x); // <<< 에 의해서 만들어지는 threadIdx\n",
        "  hiDeviceFunction();\n",
        "}\n",
        "\n",
        "int main()\n",
        "{\n",
        "  helloCUDA<<<1, 1>>>(); // <<< -> block 하나를만들어라, >>> 1개의 Thread를 만들어라.\n",
        "\n",
        "  //Asynchronous에 의해 Function이 호출 되기 전에 종료가 되어버림. \n",
        "  cudaDeviceSynchronize(); //cudaDeviceReset 도 가능\n",
        "\n",
        "  return 0;\n",
        "}"
      ]
    },
    {
      "cell_type": "code",
      "source": [
        "%%writefile CUDA_practice2.cu\n",
        "\n",
        "#include <stdio.h>\n",
        "\n",
        "__device__ void hiDeviceFunction(void) // GPU에서만 돌아가며, GPU에서만 Qualify 된다..\n",
        "{\n",
        "  printf(\"Hello! This is in hiDeviceFunciton. \\n\");\n",
        "}\n",
        "\n",
        "__global__ void helloCUDA(void) // Local + GPU\n",
        "{\n",
        "  printf(\"Hello thread %d\\t block Index%d\\n\", threadIdx.x, blockIdx.x); // <<< 에 의해서 만들어지는 threadIdx\n",
        "  hiDeviceFunction();\n",
        "}\n",
        "\n",
        "int main()\n",
        "{\n",
        "  helloCUDA<<<2, 4>>>(); // <<< -> block 하나를만들어라, >>> 1개의 Thread를 만들어라.\n",
        "\n",
        "  //Asynchronous에 의해 Function이 호출 되기 전에 종료가 되어버림. \n",
        "  cudaDeviceSynchronize(); //cudaDeviceReset 도 가능\n",
        "\n",
        "  return 0;\n",
        "}"
      ],
      "metadata": {
        "colab": {
          "base_uri": "https://localhost:8080/"
        },
        "id": "r5nAwH_bekH-",
        "outputId": "718462c1-26ab-43fe-a00b-1428927623f1"
      },
      "execution_count": null,
      "outputs": [
        {
          "output_type": "stream",
          "name": "stdout",
          "text": [
            "Writing CUDA_practice2.cu\n"
          ]
        }
      ]
    },
    {
      "cell_type": "code",
      "source": [
        "%%writefile CUDA_practice3.cu\n",
        "\n",
        "#include <stdio.h>\n",
        "\n",
        "__device__ void hiDeviceFunction(void) // GPU에서만 돌아가며, GPU에서만 Qualify 된다..\n",
        "{\n",
        "  printf(\"Hello! This is in hiDeviceFunciton. \\n\");\n",
        "}\n",
        "\n",
        "__global__ void helloCUDA(void) // Local + GPU\n",
        "{\n",
        "  printf(\"Hello thread %d\\t block Index%d\\t block Dimension = %d\\n\", threadIdx.x, blockIdx.x, blockDim.x); // <<< 에 의해서 만들어지는 threadIdx\n",
        "\n",
        "  // gloabl IDX -> block num -> thread num\n",
        "  int global_index = blockIdx.x*blockDim.x + threadIdx.x; // Define blockDim, we do not change the number\n",
        "  printf(\"Hello unique thread ID = %d\\n\", global_index);\n",
        "  //hiDeviceFunction();\n",
        "}\n",
        "\n",
        "int main()\n",
        "{\n",
        "  helloCUDA<<<2, 4>>>(); // <<< -> block 하나를만들어라, >>> 1개의 Thread를 만들어라.\n",
        "\n",
        "  //Asynchronous에 의해 Function이 호출 되기 전에 종료가 되어버림. \n",
        "  cudaDeviceSynchronize(); //cudaDeviceReset 도 가능\n",
        "\n",
        "  return 0;\n",
        "}"
      ],
      "metadata": {
        "colab": {
          "base_uri": "https://localhost:8080/"
        },
        "id": "JIfRdRBFtZal",
        "outputId": "ab8b0c98-5d6b-41d0-8558-277319a74c0c"
      },
      "execution_count": null,
      "outputs": [
        {
          "output_type": "stream",
          "name": "stdout",
          "text": [
            "Overwriting CUDA_practice3.cu\n"
          ]
        }
      ]
    },
    {
      "cell_type": "code",
      "source": [
        "%%writefile CUDA.cu\n",
        "\n",
        "#include <stdio.h>\n",
        "\n",
        "__global__ void saxpy(int n, float a, float* x, float* y)\n",
        "{\n",
        "  int idx = blockIdx.x * blockDim.x + threadIdx.x;\n",
        "\n",
        "  if (idx < n)\n",
        "  {\n",
        "    y[idx] = a*x[idx] + y[idx];\n",
        "  }\n",
        "}\n",
        "\n",
        "int main()\n",
        "{\n",
        "  int n = 1024*1024;\n",
        "  float a = 0.15;\n",
        "  float x[n];\n",
        "  float y[n];\n",
        "  float h_y[n];\n",
        "  float* d_x;\n",
        "  float* d_y;\n",
        "\n",
        "  //initialize\n",
        "  for(int i=0; i<n; i++) \n",
        "  {\n",
        "    x[n] = i*0.01 + 0.4;\n",
        "    y[n] = i*0.01 + 0.4;\n",
        "    h_y[n] = i*0.01 + 0.4;\n",
        "  }\n",
        "\n",
        "  cudaMalloc(&d_x, n*sizeof(float));\n",
        "  cudaMalloc(&d_y, n*sizeof(float));\n",
        "\n",
        "  cudaMemcpy(d_x, x, n*sizeof(float), cudaMemcpyHostToDevice);\n",
        "  cudaMemcpy(d_y, y, n*sizeof(float), cudaMemcpyHostToDevice);\n",
        "\n",
        "  int threadPerblock = 256;\n",
        "  int blocks = n/ 256;\n",
        "\n",
        "  saxpy <<< blocks, threadPerblock>>>(n,a, d_x, d_y);\n",
        "\n",
        "  cudaMemcpy(x, d_x, n*sizeof(float), cudaMemcpyHostToDevice);\n",
        "  cudaMemcpy(y, d_y, n*sizeof(float), cudaMemcpyHostToDevice);\n",
        " \n",
        "  //Correct funtion\n",
        "  for(int i=0; i<n; i++)\n",
        "  {\n",
        "    h_y[n] = a*x[i] + h_y[i];\n",
        "  }\n",
        "\n",
        "  float diff;\n",
        "  float errorSum = 0;\n",
        "  for(int i=0; i<n; i++)\n",
        "  {\n",
        "    diff= y[i] - h_y[i];\n",
        "    errorSum += diff * diff;\n",
        "  }\n",
        "\n",
        "  printf(\"ErrorSum = %f\", errorSum);\n",
        "\n",
        "  cudaFree(d_x);\n",
        "  cudaFree(d_y);\n",
        "\n",
        "}\n"
      ],
      "metadata": {
        "colab": {
          "base_uri": "https://localhost:8080/"
        },
        "id": "OFFLshT2u2z1",
        "outputId": "3010b6c1-cee0-445e-d086-e1ac9b87b48b"
      },
      "execution_count": null,
      "outputs": [
        {
          "output_type": "stream",
          "name": "stdout",
          "text": [
            "Overwriting CUDA.cu\n"
          ]
        }
      ]
    },
    {
      "cell_type": "code",
      "source": [
        "!ls"
      ],
      "metadata": {
        "colab": {
          "base_uri": "https://localhost:8080/"
        },
        "id": "rr5X26BecEnu",
        "outputId": "8f366bdf-3f77-415c-84cf-b7f2131909f2"
      },
      "execution_count": null,
      "outputs": [
        {
          "output_type": "stream",
          "name": "stdout",
          "text": [
            "a.out\t CUDA_practice2.cu  CUDA_practice.cu\n",
            "CUDA.cu  CUDA_practice3.cu  sample_data\n"
          ]
        }
      ]
    },
    {
      "cell_type": "code",
      "source": [
        "!nvcc CUDA.cu"
      ],
      "metadata": {
        "id": "4pFZ_zhZcZW-"
      },
      "execution_count": null,
      "outputs": []
    },
    {
      "cell_type": "code",
      "source": [
        "!ls"
      ],
      "metadata": {
        "colab": {
          "base_uri": "https://localhost:8080/"
        },
        "id": "3Ra4a6kFchWz",
        "outputId": "181e6414-3c6b-43f0-f80f-b85e3a135f9c"
      },
      "execution_count": null,
      "outputs": [
        {
          "output_type": "stream",
          "name": "stdout",
          "text": [
            "a.out\t CUDA_practice2.cu  CUDA_practice.cu\n",
            "CUDA.cu  CUDA_practice3.cu  sample_data\n"
          ]
        }
      ]
    },
    {
      "cell_type": "code",
      "source": [
        "!./a.out"
      ],
      "metadata": {
        "id": "6_4_P6hMch8L"
      },
      "execution_count": null,
      "outputs": []
    },
    {
      "cell_type": "code",
      "source": [
        "\n"
      ],
      "metadata": {
        "id": "pFSmO-UJdR9g"
      },
      "execution_count": null,
      "outputs": []
    },
    {
      "cell_type": "code",
      "source": [],
      "metadata": {
        "id": "bkHD-EUyyPWC"
      },
      "execution_count": null,
      "outputs": []
    }
  ]
}